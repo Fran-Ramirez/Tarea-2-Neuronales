{
  "nbformat": 4,
  "nbformat_minor": 0,
  "metadata": {
    "colab": {
      "name": "Pregunta_1.ipynb",
      "version": "0.3.2",
      "provenance": [],
      "collapsed_sections": [],
      "toc_visible": true
    },
    "kernelspec": {
      "display_name": "Python 3",
      "language": "python",
      "name": "python3"
    },
    "language_info": {
      "codemirror_mode": {
        "name": "ipython",
        "version": 3
      },
      "file_extension": ".py",
      "mimetype": "text/x-python",
      "name": "python",
      "nbconvert_exporter": "python",
      "pygments_lexer": "ipython3",
      "version": "3.6.7"
    }
  },
  "cells": [
    {
      "cell_type": "markdown",
      "metadata": {
        "colab_type": "text",
        "id": "0Y1tHj3DNqhX"
      },
      "source": [
        "<img src=\"http://www.exalumnos.usm.cl/wp-content/uploads/2015/06/Isotipo-Negro.gif\" title=\"Title text\" width=\"20%\" height=\"20%\" />\n",
        "\n",
        "\n",
        "<hr style=\"height:2px;border:none\"/>\n",
        "<h1 align='center'> INF-395/477 Redes Neuronales Artificiales I-2018 </h1>\n",
        "\n",
        "<H3 align='center'> Tarea 2 - Aplicaciones Recientes de Redes Neuronales </H3>\n",
        "\n",
        "<H2 align='center'> Pregunta 1. RNN sobre texto</H2>\n",
        "<H3 align='center'> Francisca Ramírez</H3>\n",
        "<H3 align='center'> Sebastian Ramírez</H3>\n",
        "\n",
        "<hr style=\"height:2px;border:none\"/>\n",
        "\n"
      ]
    },
    {
      "cell_type": "code",
      "metadata": {
        "id": "xrYkBhFZWMCC",
        "colab_type": "code",
        "outputId": "a1266d7b-70b3-48e0-d000-2bd8372932a8",
        "colab": {
          "base_uri": "https://localhost:8080/",
          "height": 34
        }
      },
      "source": [
        "import numpy as np\n",
        "import pandas as pd\n",
        "import matplotlib.pyplot as plt\n",
        "import operator\n",
        "from keras.preprocessing import sequence\n",
        "from sklearn.model_selection import train_test_split\n",
        "from gensim.models import Word2Vec\n",
        "from keras.utils import to_categorical\n",
        "from keras.models import Sequential\n",
        "from keras.layers import LSTM, Embedding, Dense, Dropout,TimeDistributed\n",
        "from sklearn.metrics import f1_score"
      ],
      "execution_count": 0,
      "outputs": [
        {
          "output_type": "stream",
          "text": [
            "Using TensorFlow backend.\n"
          ],
          "name": "stderr"
        }
      ]
    },
    {
      "cell_type": "markdown",
      "metadata": {
        "colab_type": "text",
        "id": "84-hf1CuNqhZ"
      },
      "source": [
        "<a id=\"primero\"></a>\n",
        "## 1. RNN sobre texto\n",
        "---\n",
        "\n",
        "Hoy en dı́a, una aplicación relevante de las redes neuronales recurrentes es el modelamiento de texto y lenguaje natural. En esta sección abordaremos el problema de procesar sentencias de texto, proporcionadas por GMB (*Groningen Meaning Bank*), para reconocimiento de entidades y *tagger*. En específico, trabajaremos con el dataset proprocionado a través de __[Kaggle](https://www.kaggle.com/abhinavwalia95/entity-annotated-corpus)__, que está compuesto por más de un millón de palabras, a fin de realizar predicciones sobre distintas tareas de redes recurrentes.\n",
        "\n",
        "<img src=\"https://i.stack.imgur.com/b4sus.jpg\" width=\"70%\" />\n",
        "\n",
        "\n"
      ]
    },
    {
      "cell_type": "markdown",
      "metadata": {
        "id": "EmiX8Hx6h2e0",
        "colab_type": "text"
      },
      "source": [
        "Descargue los datos de la página de __[Kaggle](https://www.kaggle.com/abhinavwalia95/entity-annotated-corpus)__ y cárguelos mediante *pandas*.\n",
        "```python\n",
        "import numpy as np\n",
        "import pandas as pd\n",
        "df_ner = pd.read_csv(\"./entity-annotated-corpus/ner.csv\", encoding =\"cp1252\", error_bad_lines=False)\n",
        "df_ner.dropna(inplace=True)\n",
        "```\n",
        "\n",
        "\n"
      ]
    },
    {
      "cell_type": "code",
      "metadata": {
        "id": "uLzhqELbiS14",
        "colab_type": "code",
        "outputId": "19861662-4ee3-4bb5-98d3-22b2e856285c",
        "colab": {
          "base_uri": "https://localhost:8080/",
          "height": 34
        }
      },
      "source": [
        "df_ner = pd.read_csv(\"./ner.csv\", encoding =\"cp1252\", error_bad_lines=False)\n",
        "df_ner.dropna(inplace=True)"
      ],
      "execution_count": 0,
      "outputs": [
        {
          "output_type": "stream",
          "text": [
            "b'Skipping line 281837: expected 25 fields, saw 34\\n'\n"
          ],
          "name": "stderr"
        }
      ]
    },
    {
      "cell_type": "markdown",
      "metadata": {
        "id": "pPvKyVwAh5eK",
        "colab_type": "text"
      },
      "source": [
        "> a) En esta primera instancia trabajaremos con la tarea de realizar un NER *tag* (**Named Entity Recognition**) sobre cada una de las palabras en las sentencias que se nos presenta en los datos. Esta tarea es del tipo *many to many*, es decir, la entrada es una secuencia y la salida es una secuencia, sin *shift*, por lo que necesitaremos una estructura de red adecuada a ésto. En primer lugar extraiga las columnas que utilizaremos del dataset **¿Por qué es conveniente utilizar *lemma* en vez de la misma palabra?**\n",
        "```python\n",
        "dataset = df_ner.loc[:,[\"lemma\",\"word\",\"pos\",\"tag\",\"prev-iob\"]]\n",
        "```\n",
        "Luego de esto cree una estructura que contendrá todas las sentencias u oraciones (lista de *lemmas*) y otra estructura que contendrá las etiquetas (lista de *tags*). **¿Cuales son las dimensiones de ambas estructuras? ¿Cada dato de ejemplo tiene las mismas dimensiones que el resto?**\n",
        "```python\n",
        "n_used = 500000 #data to use-- your choice\n",
        "dataX_raw,dataY_raw = [],[]\n",
        "lemmas,labels = set(), set()  #uniques\n",
        "for fila in dataset.values[:n_used]:\n",
        "    if fila[-1]==\"__START1__\": \n",
        "        dataX_raw.append(sentence)\n",
        "        dataY_raw.append(labels_sentence)\n",
        "        sentence= []\n",
        "        labels_sentence = []\n",
        "    lemmas.add(fila[0])\n",
        "    labels.add(fila[3])\n",
        "    sentence.append(fila[0]) #add lemma\n",
        "    labels_sentence.append(fila[3]) #TAG\n",
        "dataX_raw = dataX_raw[1:]\n",
        "dataY_raw = dataY_raw[1:]\n",
        "```    \n",
        "\n",
        "\n"
      ]
    },
    {
      "cell_type": "code",
      "metadata": {
        "id": "Q8Z03KvTxhwo",
        "colab_type": "code",
        "outputId": "0c6fcf0e-a5ee-4803-d7bb-7de3063c55ac",
        "colab": {
          "base_uri": "https://localhost:8080/",
          "height": 278
        }
      },
      "source": [
        "print(\"Filas: \", df_ner.shape[0], \". Columnas: \", df_ner.shape[1])\n",
        "df_ner.head()"
      ],
      "execution_count": 0,
      "outputs": [
        {
          "output_type": "stream",
          "text": [
            "Filas:  289033 . Columnas:  25\n"
          ],
          "name": "stdout"
        },
        {
          "output_type": "execute_result",
          "data": {
            "text/html": [
              "<div>\n",
              "<style scoped>\n",
              "    .dataframe tbody tr th:only-of-type {\n",
              "        vertical-align: middle;\n",
              "    }\n",
              "\n",
              "    .dataframe tbody tr th {\n",
              "        vertical-align: top;\n",
              "    }\n",
              "\n",
              "    .dataframe thead th {\n",
              "        text-align: right;\n",
              "    }\n",
              "</style>\n",
              "<table border=\"1\" class=\"dataframe\">\n",
              "  <thead>\n",
              "    <tr style=\"text-align: right;\">\n",
              "      <th></th>\n",
              "      <th>Unnamed: 0</th>\n",
              "      <th>lemma</th>\n",
              "      <th>next-lemma</th>\n",
              "      <th>next-next-lemma</th>\n",
              "      <th>next-next-pos</th>\n",
              "      <th>next-next-shape</th>\n",
              "      <th>next-next-word</th>\n",
              "      <th>next-pos</th>\n",
              "      <th>next-shape</th>\n",
              "      <th>next-word</th>\n",
              "      <th>pos</th>\n",
              "      <th>prev-iob</th>\n",
              "      <th>prev-lemma</th>\n",
              "      <th>prev-pos</th>\n",
              "      <th>prev-prev-iob</th>\n",
              "      <th>prev-prev-lemma</th>\n",
              "      <th>prev-prev-pos</th>\n",
              "      <th>prev-prev-shape</th>\n",
              "      <th>prev-prev-word</th>\n",
              "      <th>prev-shape</th>\n",
              "      <th>prev-word</th>\n",
              "      <th>sentence_idx</th>\n",
              "      <th>shape</th>\n",
              "      <th>word</th>\n",
              "      <th>tag</th>\n",
              "    </tr>\n",
              "  </thead>\n",
              "  <tbody>\n",
              "    <tr>\n",
              "      <th>0</th>\n",
              "      <td>0</td>\n",
              "      <td>thousand</td>\n",
              "      <td>of</td>\n",
              "      <td>demonstr</td>\n",
              "      <td>NNS</td>\n",
              "      <td>lowercase</td>\n",
              "      <td>demonstrators</td>\n",
              "      <td>IN</td>\n",
              "      <td>lowercase</td>\n",
              "      <td>of</td>\n",
              "      <td>NNS</td>\n",
              "      <td>__START1__</td>\n",
              "      <td>__start1__</td>\n",
              "      <td>__START1__</td>\n",
              "      <td>__START2__</td>\n",
              "      <td>__start2__</td>\n",
              "      <td>__START2__</td>\n",
              "      <td>wildcard</td>\n",
              "      <td>__START2__</td>\n",
              "      <td>wildcard</td>\n",
              "      <td>__START1__</td>\n",
              "      <td>1.0</td>\n",
              "      <td>capitalized</td>\n",
              "      <td>Thousands</td>\n",
              "      <td>O</td>\n",
              "    </tr>\n",
              "    <tr>\n",
              "      <th>1</th>\n",
              "      <td>1</td>\n",
              "      <td>of</td>\n",
              "      <td>demonstr</td>\n",
              "      <td>have</td>\n",
              "      <td>VBP</td>\n",
              "      <td>lowercase</td>\n",
              "      <td>have</td>\n",
              "      <td>NNS</td>\n",
              "      <td>lowercase</td>\n",
              "      <td>demonstrators</td>\n",
              "      <td>IN</td>\n",
              "      <td>O</td>\n",
              "      <td>thousand</td>\n",
              "      <td>NNS</td>\n",
              "      <td>__START1__</td>\n",
              "      <td>__start1__</td>\n",
              "      <td>__START1__</td>\n",
              "      <td>wildcard</td>\n",
              "      <td>__START1__</td>\n",
              "      <td>capitalized</td>\n",
              "      <td>Thousands</td>\n",
              "      <td>1.0</td>\n",
              "      <td>lowercase</td>\n",
              "      <td>of</td>\n",
              "      <td>O</td>\n",
              "    </tr>\n",
              "    <tr>\n",
              "      <th>2</th>\n",
              "      <td>2</td>\n",
              "      <td>demonstr</td>\n",
              "      <td>have</td>\n",
              "      <td>march</td>\n",
              "      <td>VBN</td>\n",
              "      <td>lowercase</td>\n",
              "      <td>marched</td>\n",
              "      <td>VBP</td>\n",
              "      <td>lowercase</td>\n",
              "      <td>have</td>\n",
              "      <td>NNS</td>\n",
              "      <td>O</td>\n",
              "      <td>of</td>\n",
              "      <td>IN</td>\n",
              "      <td>O</td>\n",
              "      <td>thousand</td>\n",
              "      <td>NNS</td>\n",
              "      <td>capitalized</td>\n",
              "      <td>Thousands</td>\n",
              "      <td>lowercase</td>\n",
              "      <td>of</td>\n",
              "      <td>1.0</td>\n",
              "      <td>lowercase</td>\n",
              "      <td>demonstrators</td>\n",
              "      <td>O</td>\n",
              "    </tr>\n",
              "    <tr>\n",
              "      <th>3</th>\n",
              "      <td>3</td>\n",
              "      <td>have</td>\n",
              "      <td>march</td>\n",
              "      <td>through</td>\n",
              "      <td>IN</td>\n",
              "      <td>lowercase</td>\n",
              "      <td>through</td>\n",
              "      <td>VBN</td>\n",
              "      <td>lowercase</td>\n",
              "      <td>marched</td>\n",
              "      <td>VBP</td>\n",
              "      <td>O</td>\n",
              "      <td>demonstr</td>\n",
              "      <td>NNS</td>\n",
              "      <td>O</td>\n",
              "      <td>of</td>\n",
              "      <td>IN</td>\n",
              "      <td>lowercase</td>\n",
              "      <td>of</td>\n",
              "      <td>lowercase</td>\n",
              "      <td>demonstrators</td>\n",
              "      <td>1.0</td>\n",
              "      <td>lowercase</td>\n",
              "      <td>have</td>\n",
              "      <td>O</td>\n",
              "    </tr>\n",
              "    <tr>\n",
              "      <th>4</th>\n",
              "      <td>4</td>\n",
              "      <td>march</td>\n",
              "      <td>through</td>\n",
              "      <td>london</td>\n",
              "      <td>NNP</td>\n",
              "      <td>capitalized</td>\n",
              "      <td>London</td>\n",
              "      <td>IN</td>\n",
              "      <td>lowercase</td>\n",
              "      <td>through</td>\n",
              "      <td>VBN</td>\n",
              "      <td>O</td>\n",
              "      <td>have</td>\n",
              "      <td>VBP</td>\n",
              "      <td>O</td>\n",
              "      <td>demonstr</td>\n",
              "      <td>NNS</td>\n",
              "      <td>lowercase</td>\n",
              "      <td>demonstrators</td>\n",
              "      <td>lowercase</td>\n",
              "      <td>have</td>\n",
              "      <td>1.0</td>\n",
              "      <td>lowercase</td>\n",
              "      <td>marched</td>\n",
              "      <td>O</td>\n",
              "    </tr>\n",
              "  </tbody>\n",
              "</table>\n",
              "</div>"
            ],
            "text/plain": [
              "   Unnamed: 0     lemma next-lemma  ...        shape           word tag\n",
              "0           0  thousand         of  ...  capitalized      Thousands   O\n",
              "1           1        of   demonstr  ...    lowercase             of   O\n",
              "2           2  demonstr       have  ...    lowercase  demonstrators   O\n",
              "3           3      have      march  ...    lowercase           have   O\n",
              "4           4     march    through  ...    lowercase        marched   O\n",
              "\n",
              "[5 rows x 25 columns]"
            ]
          },
          "metadata": {
            "tags": []
          },
          "execution_count": 3
        }
      ]
    },
    {
      "cell_type": "code",
      "metadata": {
        "id": "g_0qpVQ40tTv",
        "colab_type": "code",
        "outputId": "25eb810d-711e-48ce-df71-ae686135b33f",
        "colab": {
          "base_uri": "https://localhost:8080/",
          "height": 34
        }
      },
      "source": [
        "df_ner.shape"
      ],
      "execution_count": 0,
      "outputs": [
        {
          "output_type": "execute_result",
          "data": {
            "text/plain": [
              "(289033, 25)"
            ]
          },
          "metadata": {
            "tags": []
          },
          "execution_count": 4
        }
      ]
    },
    {
      "cell_type": "markdown",
      "metadata": {
        "id": "_QYL4apvylHm",
        "colab_type": "text"
      },
      "source": [
        "De las 25 columnas del dataset, solamente algunas serán usadas, por lo que se reducida su dimensión para ayor comodidad a la hora de trabajar."
      ]
    },
    {
      "cell_type": "code",
      "metadata": {
        "id": "Jn20kgTVyhxV",
        "colab_type": "code",
        "outputId": "4878080a-133f-4bcc-a878-335016123c39",
        "colab": {
          "base_uri": "https://localhost:8080/",
          "height": 241
        }
      },
      "source": [
        "dataset = df_ner.loc[:,[\"lemma\",\"pos\",\"tag\",\"prev-iob\"]]\n",
        "print(dataset.shape)\n",
        "print(len(dataset))\n",
        "dataset.head()"
      ],
      "execution_count": 0,
      "outputs": [
        {
          "output_type": "stream",
          "text": [
            "(289033, 4)\n",
            "289033\n"
          ],
          "name": "stdout"
        },
        {
          "output_type": "execute_result",
          "data": {
            "text/html": [
              "<div>\n",
              "<style scoped>\n",
              "    .dataframe tbody tr th:only-of-type {\n",
              "        vertical-align: middle;\n",
              "    }\n",
              "\n",
              "    .dataframe tbody tr th {\n",
              "        vertical-align: top;\n",
              "    }\n",
              "\n",
              "    .dataframe thead th {\n",
              "        text-align: right;\n",
              "    }\n",
              "</style>\n",
              "<table border=\"1\" class=\"dataframe\">\n",
              "  <thead>\n",
              "    <tr style=\"text-align: right;\">\n",
              "      <th></th>\n",
              "      <th>lemma</th>\n",
              "      <th>pos</th>\n",
              "      <th>tag</th>\n",
              "      <th>prev-iob</th>\n",
              "    </tr>\n",
              "  </thead>\n",
              "  <tbody>\n",
              "    <tr>\n",
              "      <th>0</th>\n",
              "      <td>thousand</td>\n",
              "      <td>NNS</td>\n",
              "      <td>O</td>\n",
              "      <td>__START1__</td>\n",
              "    </tr>\n",
              "    <tr>\n",
              "      <th>1</th>\n",
              "      <td>of</td>\n",
              "      <td>IN</td>\n",
              "      <td>O</td>\n",
              "      <td>O</td>\n",
              "    </tr>\n",
              "    <tr>\n",
              "      <th>2</th>\n",
              "      <td>demonstr</td>\n",
              "      <td>NNS</td>\n",
              "      <td>O</td>\n",
              "      <td>O</td>\n",
              "    </tr>\n",
              "    <tr>\n",
              "      <th>3</th>\n",
              "      <td>have</td>\n",
              "      <td>VBP</td>\n",
              "      <td>O</td>\n",
              "      <td>O</td>\n",
              "    </tr>\n",
              "    <tr>\n",
              "      <th>4</th>\n",
              "      <td>march</td>\n",
              "      <td>VBN</td>\n",
              "      <td>O</td>\n",
              "      <td>O</td>\n",
              "    </tr>\n",
              "  </tbody>\n",
              "</table>\n",
              "</div>"
            ],
            "text/plain": [
              "      lemma  pos tag    prev-iob\n",
              "0  thousand  NNS   O  __START1__\n",
              "1        of   IN   O           O\n",
              "2  demonstr  NNS   O           O\n",
              "3      have  VBP   O           O\n",
              "4     march  VBN   O           O"
            ]
          },
          "metadata": {
            "tags": []
          },
          "execution_count": 5
        }
      ]
    },
    {
      "cell_type": "markdown",
      "metadata": {
        "id": "x9Q7CvhX3qlL",
        "colab_type": "text"
      },
      "source": [
        "¿Por qué es conveniente utilizar lemma en vez de la misma palabra?\n",
        "\n",
        "Conviene usar lemma porque son palabras ya procesadas. La lemmatización remueve los caracteres terminales de una palabra para encontrarle una base comun la cual es conocida como lemma (raiz de la palabra). Por ejemplo: las palagras am, are, is tiene como lemma la palabra be. Otro ejemplo es, 'carreses' -> 'caress' y 'caress' -> 'caress'.\n"
      ]
    },
    {
      "cell_type": "code",
      "metadata": {
        "id": "ePOXGIZRl0L1",
        "colab_type": "code",
        "outputId": "f6aef1f8-c150-49d8-89e7-5d54801882e4",
        "colab": {
          "base_uri": "https://localhost:8080/",
          "height": 52
        }
      },
      "source": [
        "n_used = 500000 #data to use-- your choice\n",
        "dataX_raw,dataY_raw = [],[]\n",
        "lemmas,labels = set(), set()  #uniques\n",
        "sentence = []\n",
        "labels_sentence = []\n",
        "\n",
        "for fila in dataset.values[:n_used]:\n",
        "    if fila[-1]==\"__START1__\": \n",
        "        dataX_raw.append(np.asarray(sentence))\n",
        "        dataY_raw.append(np.asarray(labels_sentence))\n",
        "        sentence= []\n",
        "        labels_sentence = []\n",
        "    lemmas.add(fila[0])\n",
        "    labels.add(fila[2])\n",
        "    sentence.append(fila[0]) #add lemma\n",
        "    labels_sentence.append(fila[2]) #TAG\n",
        "dataX_raw = dataX_raw[1:]\n",
        "dataY_raw = dataY_raw[1:]\n",
        "\n",
        "dataX_raw = np.asarray(dataX_raw[1:]) #Arreglo de arreglo de lemmas\n",
        "dataY_raw = np.asarray(dataY_raw[1:])#arreglo de arreglo de tags\n",
        "\n",
        "print(\"lemmas, numero de filas: \",len(dataX_raw))\n",
        "print(\"tags, numero de filas: \",len(dataY_raw))"
      ],
      "execution_count": 0,
      "outputs": [
        {
          "output_type": "stream",
          "text": [
            "lemmas, numero de filas:  13233\n",
            "lemmas, numero de filas:  13233\n"
          ],
          "name": "stdout"
        }
      ]
    },
    {
      "cell_type": "markdown",
      "metadata": {
        "id": "KTYyDLY031S_",
        "colab_type": "text"
      },
      "source": [
        "¿Cuales son las dimensiones de ambas estructuras? ¿Cada dato de ejemplo tiene las mismas dimensiones que el resto?\n",
        "\n",
        "Las dimensiones de ambas estructuras son 13233. La dimensión de cada dato de ejemplo no necesariamente será igual al resto y esto se puede ver en los histogramas a continuación."
      ]
    },
    {
      "cell_type": "code",
      "metadata": {
        "id": "CqP1rsTVmojb",
        "colab_type": "code",
        "outputId": "ba0f69c1-72a3-40c2-b130-388a7d41d790",
        "colab": {
          "base_uri": "https://localhost:8080/",
          "height": 369
        }
      },
      "source": [
        "def largo_filas(matriz):\n",
        "    tamanno_columnas = []\n",
        "    for i in range(len(matriz)):\n",
        "        tamanno_columnas.append(len(matriz[i]))\n",
        "    return (tamanno_columnas)\n",
        "\n",
        "\n",
        "np.random.seed(0)\n",
        "num_bins = 40\n",
        "\n",
        "fig, axes = plt.subplots(nrows=1, ncols=2, figsize=(10,5), sharey=True)\n",
        "\n",
        "x_lemma = largo_filas(dataX)\n",
        "x_tags = largo_filas(dataY)\n",
        "ax0, ax1  = axes.flatten()\n",
        "\n",
        "ax0.hist(x_lemma, num_bins, facecolor='blue', alpha=0.5)\n",
        "ax0.set_xlabel(\"Número de columnas\")\n",
        "ax0.set_ylabel(\"Cantidad de filas\")\n",
        "ax0.set_title('Número de columnas para cada fila en matriz de lemmas', fontsize=11)\n",
        "\n",
        "\n",
        "ax1.hist(x_tags, num_bins, facecolor='blue', alpha=0.5)\n",
        "ax1.set_title('Número de columnas para cada fila en matriz de tags', fontsize=11)\n",
        "ax1.set_xlabel(\"Numero de columnas\")\n",
        "ax1.set_ylabel(\"Cantidad de filas\")\n",
        "\n",
        "plt.ylabel(\"Cantidad de filas\")\n",
        "fig.tight_layout()\n",
        "\n",
        "plt.show()"
      ],
      "execution_count": 0,
      "outputs": [
        {
          "output_type": "display_data",
          "data": {
            "image/png": "[encoded data removed]",
            "text/plain": [
              "<Figure size 720x360 with 2 Axes>"
            ]
          },
          "metadata": {
            "tags": []
          }
        }
      ]
    },
    {
      "cell_type": "markdown",
      "metadata": {
        "id": "Emb_taLGlzPs",
        "colab_type": "text"
      },
      "source": [
        "> b) Estudie la distribución del largo de los textos a procesar. Estudie también la frecuencia con la que aparecen las palabras en todo el dataset. **¿Se observa una ley Zipf?**[[1]](#refs) Realice un gráfico de la cantidad de datos por clase. Comente.\n"
      ]
    },
    {
      "cell_type": "code",
      "metadata": {
        "id": "Em9OROlXl0_0",
        "colab_type": "code",
        "colab": {}
      },
      "source": [
        "def n_words(matrix):\n",
        "    dic = dict()\n",
        "    for i in range(len(matrix)):\n",
        "        for word in matrix[i]:\n",
        "            if word in dic:\n",
        "                dic[word] += 1\n",
        "            else:\n",
        "                dic[word] = 0\n",
        "    return (dic)"
      ],
      "execution_count": 0,
      "outputs": []
    },
    {
      "cell_type": "code",
      "metadata": {
        "id": "VTXRLp2YVulq",
        "colab_type": "code",
        "outputId": "20875236-26e7-44ea-84b5-9409dbcaea2a",
        "colab": {
          "base_uri": "https://localhost:8080/",
          "height": 622
        }
      },
      "source": [
        "n_lemma = sorted(n_words(dataX_raw).items(), key=operator.itemgetter(1), reverse=True)\n",
        "n_tags = sorted(n_words(dataY_raw).items(), key=operator.itemgetter(1), reverse=True)\n",
        "\n",
        "\n",
        "palabras = list(zip(*n_lemma))[0][35::-1]\n",
        "frecuencia = list(zip(*n_lemma))[1][35::-1]\n",
        "x_pos_lemma = np.arange(len(palabras))\n",
        "\n",
        "plt.figure(figsize=(10,8))\n",
        "plt.title(\"Palabra más frecuentes en matriz de lemmas\", fontsize =20)\n",
        "plt.barh(x_pos_lemma, frecuencia ,align='center')\n",
        "plt.yticks(x_pos_lemma, palabras) \n",
        "plt.ylabel('Palabras', fontsize=15)\n",
        "plt.xlabel('Freuencia de las palabras', fontsize=15)\n",
        "plt.tight_layout()\n",
        "plt.show()"
      ],
      "execution_count": 0,
      "outputs": [
        {
          "output_type": "display_data",
          "data": {
            "image/png": "[encoded data removed]",
            "text/plain": [
              "<Figure size 720x576 with 1 Axes>"
            ]
          },
          "metadata": {
            "tags": []
          }
        },
        {
          "output_type": "execute_result",
          "data": {
            "text/plain": [
              "'\\ntags = list(zip(*n_tags))[0][35::-1]\\nfrec_tags = list(zip(*n_tags))[1][35::-1]\\nx_pos_tags = np.arange(len(tags)) \\n\\n\\nplt.figure(figsize=(10,8))\\nplt.title(\"Tags más frecientes\", fontsize =20)\\nplt.barh(x_pos_tags, frec_tags,align=\\'center\\')\\nplt.yticks(x_pos_tags, tags) \\nplt.ylabel(\\'Tags\\', fontsize=15)\\nplt.xlabel(\\'Freciencia\\', fontsize=15)\\nplt.tight_layout()\\nplt.show()\\n'"
            ]
          },
          "metadata": {
            "tags": []
          },
          "execution_count": 8
        }
      ]
    },
    {
      "cell_type": "code",
      "metadata": {
        "id": "wfnJU3Lcr2B9",
        "colab_type": "code",
        "outputId": "dbc643c1-e0c8-46ea-93a1-e8052f18c758",
        "colab": {
          "base_uri": "https://localhost:8080/",
          "height": 485
        }
      },
      "source": [
        "contador = 0\n",
        "ranking = []\n",
        "ocurrencias = []\n",
        "for tupla in n_lemma:\n",
        "    ranking.append(contador)\n",
        "    contador+=1\n",
        "    ocurrencias.append(tupla[1])\n",
        "\n",
        "fig, axes = plt.subplots(nrows=1, ncols=2, figsize=(14, 6), sharey=False)\n",
        "\n",
        "\n",
        "plt.suptitle(\"Ley de Zipf en Lemmas\", y = 1.03, fontsize=20)\n",
        "\n",
        "\n",
        "axes[0].set_title(\"Ley de Zipf en Lemmas\")\n",
        "axes[0].set_ylabel(\"Log 10 (ocurrencias) \")\n",
        "axes[0].set_xlabel(\"Log 10 (ranking)\")\n",
        "axes[0].plot(ranking, ocurrencias)\n",
        "\n",
        "axes[1].loglog(ranking, ocurrencias,basex=10)\n",
        "axes[1].set_title(\"Ley de Zipf en Tags linealizada\")\n",
        "axes[1].set_ylabel(\"Log 10 (ocurrencias) \")\n",
        "axes[1].set_xlabel(\"Log 10 (ranking)\")\n",
        "\n",
        "\n",
        "plt.tight_layout()"
      ],
      "execution_count": 0,
      "outputs": [
        {
          "output_type": "display_data",
          "data": {
            "image/png": "[encoded data removed]",
            "text/plain": [
              "<Figure size 1008x432 with 2 Axes>"
            ]
          },
          "metadata": {
            "tags": []
          }
        }
      ]
    },
    {
      "cell_type": "markdown",
      "metadata": {
        "id": "WQ5K1yKYna9K",
        "colab_type": "text"
      },
      "source": [
        "La ley Zipf propone que en una lengua la frecuencia de aparición de las palabras sigue una distribución aproximada como $P_{n} \\sim \\frac{1}{n^{a}}$, con $P_n$ la frecuencia de n-esima palabra más frecuente y $a$ aproximadamente 1, entonces la primera palabra tendría una frecuencia aproximada de $1/2$, el tercer elemento tendría una frecuencia de $1/3$ y así sucesivamente.\n",
        "\n",
        "En nuestro caso, verificamos si esto se cumple para los 35 lemmas más frecuentes. Al linealizar la frecuencia de lemmas podemos ver que en efecto la ley se cumple pues se forma una curva rectilinea, además en el grafico sin linealizar se puede ver con claridad que ell comportamiento de la curva sigue lo esperado. "
      ]
    },
    {
      "cell_type": "markdown",
      "metadata": {
        "id": "B_-ZU-xyh8KW",
        "colab_type": "text"
      },
      "source": [
        "\n",
        "> c) Para representar cada posible *tag* y *lemma* de modo que la red pueda manejarlo, será necesario codificarlos a un número único (*indice*) ¿Cuántos *tags* y *lemmas* distintos existen?  Comente sobre el significado del *tag* para cada *lemma*. **Finalmente mida el largo máximo de entre todas las sentencias**.\n",
        "```python\n",
        "n_labels = len(labels)\n",
        "lab2idx = {t: i for i, t in enumerate(labels)}\n",
        "dataY = [[lab2idx[ner] for ner in ner_tags ] for ner_tags in dataY_raw] #Converting tags to indexs\n",
        "n_lemmas = len(lemmas)\n",
        "lemma2idx = {w: i for i, w in enumerate(lemmas)} \n",
        "dataX = [[lemma2idx[lemma] for lemma in sentence ] for sentence in dataX_raw] #Converting text to indexs\n",
        "```\n",
        "\n"
      ]
    },
    {
      "cell_type": "code",
      "metadata": {
        "id": "CPP052oUuPL-",
        "colab_type": "code",
        "outputId": "6278df93-8e01-41c9-9fbc-5bdd95b42f2b",
        "colab": {
          "base_uri": "https://localhost:8080/",
          "height": 52
        }
      },
      "source": [
        "def n_data(matriz):\n",
        "    contador = 0\n",
        "    for i in range(len(matriz)):\n",
        "        contador+=len(matriz[i])\n",
        "    return contador\n",
        "print(\"cantidad de lemmas: \", n_data(dataX_raw))\n",
        "print(\"cantidad de tags: \", n_data(dataY_raw))"
      ],
      "execution_count": 0,
      "outputs": [
        {
          "output_type": "stream",
          "text": [
            "cantidad de lemmas:  288995\n",
            "cantidad de tags:  288995\n"
          ],
          "name": "stdout"
        }
      ]
    },
    {
      "cell_type": "code",
      "metadata": {
        "colab_type": "code",
        "outputId": "560b3359-e970-4621-a1f4-e9b90299ecad",
        "id": "qvMAYYTPUUVZ",
        "colab": {
          "base_uri": "https://localhost:8080/",
          "height": 34
        }
      },
      "source": [
        "len_max = 0\n",
        "for i in range(len(dataX_raw)):\n",
        "    if len(dataX_raw[i])>len_max:\n",
        "        len_max = len(dataX_raw[i])\n",
        "print(\"El maximo largo entre todas las sentencias es \", len_max)\n"
      ],
      "execution_count": 0,
      "outputs": [
        {
          "output_type": "stream",
          "text": [
            "El maximo largo entre todas las sentencias es  70\n"
          ],
          "name": "stdout"
        }
      ]
    },
    {
      "cell_type": "code",
      "metadata": {
        "id": "-aSsIk9Z95UI",
        "colab_type": "code",
        "colab": {}
      },
      "source": [
        "#Se agrega el nuevo caracter por comodidad para no volver a indexar en la pregunta futura\n",
        "lemmas.add(\"endend\")\n",
        "labels.add(\"endend\")"
      ],
      "execution_count": 0,
      "outputs": []
    },
    {
      "cell_type": "code",
      "metadata": {
        "id": "RqA3w6nSl19u",
        "colab_type": "code",
        "outputId": "a7102a99-ab0d-4cd7-c5c2-e811c5645cf5",
        "colab": {
          "base_uri": "https://localhost:8080/",
          "height": 52
        }
      },
      "source": [
        "n_labels = len(labels)\n",
        "n_lemmas = len(lemmas)\n",
        "\n",
        "lab2idx = {t: i for i, t in enumerate(labels)}\n",
        "lemma2idx = {w: i for i, w in enumerate(lemmas)}\n",
        "\n",
        "dataX = [[lemma2idx[lemma] for lemma in sentence ] for sentence in dataX_raw] #Converting text to indexs\n",
        "dataY = [[lab2idx[ner] for ner in ner_tags ] for ner_tags in dataY_raw] #Converting tags to indexs\n",
        "\n",
        "print(\"existen\", len(lab2idx)-1, \"tags diferentes\")\n",
        "print(\"existen\", len(lemma2idx)-1, \"lemmas diferentes\")"
      ],
      "execution_count": 0,
      "outputs": [
        {
          "output_type": "stream",
          "text": [
            "existen 17 tags diferentes\n",
            "existen 12450 lemmas diferentes\n"
          ],
          "name": "stdout"
        }
      ]
    },
    {
      "cell_type": "markdown",
      "metadata": {
        "id": "0XoZjLach_D1",
        "colab_type": "text"
      },
      "source": [
        "> d) Debido a la distinta extensión de textos se deberá **realizar *padding* para estandarizar el largo**,\n",
        "considere algun carácter especial **no presente en el vocabulario** para codificar el espacio en blanco en ambos (entrada y salida), por ejemplo si el largo máximo es de 4 y se tiene la sentencia \"the rocket\" codificada como [32,4] será necesario agregar un *lemma* que codificado significará el fin de la sentencia \"the rocket *ENDPAD ENDPAD*\" que codificado quedará como [32,4,*N, N*]. Decida, respecto al cómo funciona una red recurrente y su *memoria*, sobre qué le parece más conveniente al momento de rellenar con un valor especial ¿Al principio o al final de la sentencia? Comente\n",
        "```python\n",
        "lemma2idx[\"END\"] = n_lemmas #add fullfill lemma and tag to the dictionary\n",
        "lab2idx[\"END\"] = n_labels\n",
        "n_labels +=1\n",
        "n_lemmas +=1\n",
        "from keras.preprocessing import sequence\n",
        "X = sequence.pad_sequences(dataX, maxlen=max_input_lenght,padding='pre' or 'post',value=lemma2idx[\"yourspecialcharacter\"])\n",
        "y = sequence.pad_sequences(dataY, maxlen=max_input_lenght,padding='pre' or 'post',value=lab2idx[\"endtagger\"])\n",
        "del dataY[:],dataX[:]\n",
        "```\n",
        "\n"
      ]
    },
    {
      "cell_type": "code",
      "metadata": {
        "id": "KC7718PM8kwf",
        "colab_type": "code",
        "outputId": "affad9b6-a5e0-4132-e7ac-6e0752e689ce",
        "colab": {
          "base_uri": "https://localhost:8080/",
          "height": 34
        }
      },
      "source": [
        "print(\"Largo dataX[0], Largo dataX[1], Largo dataX[2]: \", len(dataX[0]), len(dataX[1]), len(dataX[2]))\n"
      ],
      "execution_count": 0,
      "outputs": [
        {
          "output_type": "stream",
          "text": [
            "Largo dataX[0], Largo dataX[1], Largo dataX[2]:  30 14 15\n"
          ],
          "name": "stdout"
        }
      ]
    },
    {
      "cell_type": "code",
      "metadata": {
        "id": "33Na3OtUl23p",
        "colab_type": "code",
        "outputId": "d4f3cfdd-efcf-4f97-805d-2da0112e8c88",
        "colab": {
          "base_uri": "https://localhost:8080/",
          "height": 52
        }
      },
      "source": [
        "lemmas_padding = sequence.pad_sequences(dataX,maxlen=len_max,padding='post', value=lemma2idx[\"endend\"]) \n",
        "tags_padding = sequence.pad_sequences(dataY,maxlen=len_max,padding='post', value=lab2idx[\"endend\"])\n",
        "\n",
        "nn_lemmas = len(lemmas)\n",
        "nn_labels = len(labels)\n",
        "print(\"numero  lemmas (unicos): \"+str(nn_lemmas))\n",
        "print(\"numero de labels (unicos): \"+str(nn_labels))\n"
      ],
      "execution_count": 0,
      "outputs": [
        {
          "output_type": "stream",
          "text": [
            "numero  lemmas (unicos): 12451\n",
            "numero de labels (unicos): 18\n"
          ],
          "name": "stdout"
        }
      ]
    },
    {
      "cell_type": "code",
      "metadata": {
        "id": "P7NqEpT6AnwQ",
        "colab_type": "code",
        "outputId": "d6929f87-5dcf-496a-8e32-e63240928e7d",
        "colab": {
          "base_uri": "https://localhost:8080/",
          "height": 52
        }
      },
      "source": [
        "print(\"El valor de lemma2idx['endend'] es :\"+str(lemma2idx['endend']))\n",
        "print(\"El valor de lab2idx['endend'] es :\"+str(lab2idx['endend']))"
      ],
      "execution_count": 0,
      "outputs": [
        {
          "output_type": "stream",
          "text": [
            "El valor de lemma2idx['endend'] es :11233\n",
            "El valor de lab2idx['endend'] es :12\n"
          ],
          "name": "stdout"
        }
      ]
    },
    {
      "cell_type": "code",
      "metadata": {
        "id": "bySsnGevAv0G",
        "colab_type": "code",
        "outputId": "4720a940-7ffb-4723-9a3f-06cd9123bff0",
        "colab": {
          "base_uri": "https://localhost:8080/",
          "height": 173
        }
      },
      "source": [
        "print(lemmas_padding[0])\n",
        "print(tags_padding[1])"
      ],
      "execution_count": 0,
      "outputs": [
        {
          "output_type": "stream",
          "text": [
            "[ 2114 10974  9839  6441  1568  6698  9539  5723  6698 12428 11527  4267\n",
            "  5850  8392 11662 10548  1496  8204  8211  5210  9603   485  8204 10032\n",
            "  8204  9803  6698  3091  3414  8204 11233 11233 11233 11233 11233 11233\n",
            " 11233 11233 11233 11233 11233 11233 11233 11233 11233 11233 11233 11233\n",
            " 11233 11233 11233 11233 11233 11233 11233 11233 11233 11233 11233 11233\n",
            " 11233 11233 11233 11233 11233 11233 11233 11233 11233 11233]\n",
            "[ 0  0  0  0  0  0  0  0  0  0  0  4  1  0 12 12 12 12 12 12 12 12 12 12\n",
            " 12 12 12 12 12 12 12 12 12 12 12 12 12 12 12 12 12 12 12 12 12 12 12 12\n",
            " 12 12 12 12 12 12 12 12 12 12 12 12 12 12 12 12 12 12 12 12 12 12]\n"
          ],
          "name": "stdout"
        }
      ]
    },
    {
      "cell_type": "markdown",
      "metadata": {
        "id": "vqeZV7P0tWZ8",
        "colab_type": "text"
      },
      "source": [
        "Para resolver el tema de la diferencia de largo en las filas se realiza post-pading. La razón de realizar post-pading no tiene mayor relevancia ya que no existe una gran diferencia si se realizaba pre-pading. Sin embargo por comodidad, se hizo post para asegurar que las oraciones esten siempre al inicio.\n",
        "\n",
        "Se verificó el exitosamente la realización del padding"
      ]
    },
    {
      "cell_type": "markdown",
      "metadata": {
        "id": "ufmj2KyhiB_Y",
        "colab_type": "text"
      },
      "source": [
        "> e) Para poder generar una representación adecuada sobre los datos de entrada que permita realizar operaciones lineales, deberá generar una representación a un vector denso. Para ésto se utilizará la arquitectura de autoencoder **Word2Vec** [[2]](#refs) sobre textos *raws* de largo variable, en donde el *encoder* codifica una palabra categórica (*target*) a un vector denso de dimensionalidad $d$ mientras que el *decoder* genera palabras en el contexto (*context*) de la palabra *target* (en una vecindad alrededor). La idea detrás es que palabras similares sean proyectadas a una región cercana en el espacio de *embedding* ¿Cuál es la importancia del parámetro min_count? ¿Cuántos *lemmas* ve Word2Vec?\n",
        "```python\n",
        "from gensim.models import Word2Vec\n",
        "EMBEDDING_DIM = 32\n",
        "window_size = 5\n",
        "nb_epoch = 5\n",
        "batch_size = 6000\n",
        "min_count = 3\n",
        "model = Word2Vec(dataX_raw,size=EMBEDDING_DIM,window=window_size,batch_words=batch_size,iter=nb_epoch,\n",
        "                 min_count=min_count, negative=5,sg=1) #sg=1 mean skip-gram\n",
        "embeddings_index = {vocab_word: model.wv[vocab_word] for vocab_word in model.wv.vocab}\n",
        "len(embeddings_index.keys())\n",
        "```\n",
        "Genere una matriz de *embeddings* que se utilizarán como capa neuronal.\n",
        "```python\n",
        "embedding_matrix = np.zeros((n_lemmas, EMBEDDING_DIM))\n",
        "for word, i in lemma2idx.items():\n",
        "    embedding_vector = embeddings_index.get(word)\n",
        "    if embedding_vector is not None: #if word does not has embedding\n",
        "        embedding_matrix[i] = embedding_vector\n",
        "```\n",
        "Luego, para poder realizar una clasificación sobre los datos en la salida será necesario representarlos *one hot vectors*, esto resultará en un arreglo tridimensional.\n",
        "```python\n",
        "from keras.utils import to_categorical\n",
        "y = np.asarray([to_categorical(i, num_classes=n_labels) for i in y])\n",
        "```\n",
        "\n"
      ]
    },
    {
      "cell_type": "code",
      "metadata": {
        "id": "xfTn1s6_HWan",
        "colab_type": "code",
        "outputId": "3a3b5c61-689c-4215-c4e0-51bd371cf424",
        "colab": {
          "base_uri": "https://localhost:8080/",
          "height": 34
        }
      },
      "source": [
        "EMBEDDING_DIM = 32\n",
        "window_size = 5\n",
        "nb_epoch = 5\n",
        "batch_size = 6000\n",
        "min_count = 3\n",
        "ldataX_raw = list()\n",
        "for i in dataX_raw:\n",
        "    i = ldataX_raw.append(list(i))\n",
        "model = Word2Vec(ldataX_raw,size=EMBEDDING_DIM,window=window_size,batch_words=batch_size,iter=nb_epoch,\n",
        "                 min_count=min_count, negative=5,sg=1) #sg=1 mean skip-gram\n",
        "embeddings_index = {vocab_word: model.wv[vocab_word] for vocab_word in model.wv.vocab}\n",
        "len(embeddings_index.keys())"
      ],
      "execution_count": 0,
      "outputs": [
        {
          "output_type": "execute_result",
          "data": {
            "text/plain": [
              "5485"
            ]
          },
          "metadata": {
            "tags": []
          },
          "execution_count": 18
        }
      ]
    },
    {
      "cell_type": "code",
      "metadata": {
        "id": "f-WzeJDXUr-M",
        "colab_type": "code",
        "outputId": "63c8b01b-b020-4794-879b-2759a03120c8",
        "colab": {
          "base_uri": "https://localhost:8080/",
          "height": 34
        }
      },
      "source": [
        "frec_lemmas = list(zip(*n_lemma))[1]\n",
        "a=0\n",
        "for i in cia:\n",
        "    if i>=3:\n",
        "        a+=1\n",
        "\n",
        "print(a)"
      ],
      "execution_count": 0,
      "outputs": [
        {
          "output_type": "stream",
          "text": [
            "4524\n"
          ],
          "name": "stdout"
        }
      ]
    },
    {
      "cell_type": "markdown",
      "metadata": {
        "id": "zS0x786T03QL",
        "colab_type": "text"
      },
      "source": [
        "El parámetro min_count sirve para que el word2vect considere solo los lemmas con frecuencia mayor a 3, entonces word2vect vera en total 4524 lemmas de un total de 12451"
      ]
    },
    {
      "cell_type": "code",
      "metadata": {
        "id": "PQFFWev9Hfk1",
        "colab_type": "code",
        "colab": {}
      },
      "source": [
        "embedding_matrix = np.zeros((nn_lemmas, EMBEDDING_DIM))\n",
        "for word, i in lemma2idx.items():\n",
        "    embedding_vector = embeddings_index.get(word)\n",
        "    if embedding_vector is not None: #if word does not has embedding\n",
        "        embedding_matrix[i] = embedding_vector"
      ],
      "execution_count": 0,
      "outputs": []
    },
    {
      "cell_type": "code",
      "metadata": {
        "id": "AwiUO9XWU38C",
        "colab_type": "code",
        "outputId": "24facc40-97d5-4898-a8d4-88ece71f1762",
        "colab": {
          "base_uri": "https://localhost:8080/",
          "height": 34
        }
      },
      "source": [
        "tags_padding.shape"
      ],
      "execution_count": 0,
      "outputs": [
        {
          "output_type": "execute_result",
          "data": {
            "text/plain": [
              "(13233, 70)"
            ]
          },
          "metadata": {
            "tags": []
          },
          "execution_count": 21
        }
      ]
    },
    {
      "cell_type": "code",
      "metadata": {
        "id": "LW9sx5IUHlag",
        "colab_type": "code",
        "outputId": "3f9fc8e3-c51b-48a0-f054-3faa515f3971",
        "colab": {
          "base_uri": "https://localhost:8080/",
          "height": 34
        }
      },
      "source": [
        "tags_padding = np.asarray([to_categorical(i, num_classes=n_labels) for i in tags_padding])\n",
        "tags_padding.shape"
      ],
      "execution_count": 0,
      "outputs": [
        {
          "output_type": "execute_result",
          "data": {
            "text/plain": [
              "(13233, 70, 18)"
            ]
          },
          "metadata": {
            "tags": []
          },
          "execution_count": 22
        }
      ]
    },
    {
      "cell_type": "markdown",
      "metadata": {
        "id": "q61B3CwsiEw1",
        "colab_type": "text"
      },
      "source": [
        "> f) Luego de esto cree los conjuntos de entrenamiento y de prueba con el código a continuación **¿Cuáles son las dimensiones de entrada y salida de cada conjunto?** Comente\n",
        "```python\n",
        "from sklearn.model_selection import train_test_split\n",
        "X_train, X_test, y_train, y_test = train_test_split(X, y, test_size=0.3,random_state=22)\n",
        "y_train.shape\n",
        "```\n",
        "\n"
      ]
    },
    {
      "cell_type": "code",
      "metadata": {
        "id": "wUEF9UQ8l4a5",
        "colab_type": "code",
        "outputId": "3882796d-0ce9-4d23-aad7-cae4e809a6d0",
        "colab": {
          "base_uri": "https://localhost:8080/",
          "height": 121
        }
      },
      "source": [
        "X_train, X_test, y_train, y_test = train_test_split(lemmas_padding, tags_padding, test_size=0.3,random_state=22)\n",
        "\n",
        "print(\"dimensiones de entrada\")\n",
        "print(\"X_train shape: \"+str(X_train.shape))\n",
        "print(\"y_train shape: \"+str(y_train.shape))\n",
        "\n",
        "print(\"dimensiones de salida\")\n",
        "print(\"X_test shape: \"+str(X_test.shape))\n",
        "print(\"y_test shape: \"+str(y_test.shape))"
      ],
      "execution_count": 0,
      "outputs": [
        {
          "output_type": "stream",
          "text": [
            "dimensiones de entrada\n",
            "X_train shape: (9263, 70)\n",
            "y_train shape: (9263, 70, 18)\n",
            "dimensiones de salida\n",
            "X_test shape: (3970, 70)\n",
            "y_test shape: (3970, 70, 18)\n"
          ],
          "name": "stdout"
        }
      ]
    },
    {
      "cell_type": "markdown",
      "metadata": {
        "id": "vUsHwDKLiHS6",
        "colab_type": "text"
      },
      "source": [
        "\n",
        "> g) Defina una red neuronal recurrente *many to many* con compuertas LSTM para aprender a *tagear* la entidad en el texto. Esta red debe procesar la secuencia de *lemmas* rellenados (o sin rellenar) y entregar el *tag* a cada uno de los *lemmas*, por lo que la salida de la red es una por cada instante de tiempo que se necesita entregar un *output*. La primera capa de la red a construir debe tener los vectores de *embedding* encontrados por **Word2Vec**. **Comente sobre los cambios que sufre un dato al ingresar a la red y la cantidad de parámetros de la red**. Entrene y luego evalúe su desempeño sobre ambos conjuntos. \n",
        "```python\n",
        "from keras.models import Sequential\n",
        "from keras.layers import LSTM, Embedding, Dense, Dropout,TimeDistributed\n",
        "model = Sequential()\n",
        "model.add(Embedding(input_dim=n_lemmas, output_dim=EMBEDDING_DIM, input_length=max_input_lenght,\n",
        "                    trainable=False, weights = [embedding_matrix]))\n",
        "model.add(LSTM(units=100,return_sequences=True))\n",
        "model.add(Dropout(0.2))\n",
        "model.add(TimeDistributed(Dense(n_labels, activation='softmax')))\n",
        "model.summary()\n",
        "model.compile(loss='categorical_crossentropy', optimizer='adam')\n",
        "model.fit(X_train, y_train, validation_data=(X_test, y_test), epochs=15, batch_size=128)\n",
        "```\n",
        "Para evaluar su modelo utilice una métrica adecuada para el desbalance presente entre las clases como identificó en el punto b). Tenga presente en este punto el **no evaluar** la clase/símbolo que añadió para realizar *padding* a los *tag*.  \n",
        "*Hint: podría \"truncar\" la salida predicha hasta el largo real de esa sentencia*.\n",
        "```python\n",
        "from sklearn.metrics import f1_score\n",
        "dataY_pred = model.predict_classes(X_test,verbose=0) #process... to remove prediction on \"endtagger\" symbol\n",
        "f1_score_bydata = [f1_score(true, pred ,average='macro') for true,pred in zip(dataY,dataY_pred) ]\n",
        "print(\"F1 score on test: \", np.mean(f1_score_bydata) )\n",
        "```\n",
        "\n"
      ]
    },
    {
      "cell_type": "code",
      "metadata": {
        "id": "osoMC9OOl5Fp",
        "colab_type": "code",
        "outputId": "9801614d-1ff5-4ed8-cb02-c632f8db0ff7",
        "colab": {
          "base_uri": "https://localhost:8080/",
          "height": 853
        }
      },
      "source": [
        "model = Sequential()\n",
        "model.add(Embedding(input_dim=nn_lemmas, output_dim=EMBEDDING_DIM, input_length=len_max,\n",
        "                    trainable=False, weights = [embedding_matrix]))\n",
        "model.add(LSTM(units=100,return_sequences=True))\n",
        "model.add(Dropout(0.2))\n",
        "model.add(TimeDistributed(Dense(nn_labels, activation='softmax')))\n",
        "model.summary()\n",
        "model.compile(loss='categorical_crossentropy', optimizer='adam', metrics=['accuracy'])\n",
        "model.fit(X_train, y_train, validation_data=(X_test, y_test), epochs=15, batch_size=128)"
      ],
      "execution_count": 0,
      "outputs": [
        {
          "output_type": "stream",
          "text": [
            "_________________________________________________________________\n",
            "Layer (type)                 Output Shape              Param #   \n",
            "=================================================================\n",
            "embedding_7 (Embedding)      (None, 70, 32)            398432    \n",
            "_________________________________________________________________\n",
            "lstm_6 (LSTM)                (None, 70, 100)           53200     \n",
            "_________________________________________________________________\n",
            "dropout_5 (Dropout)          (None, 70, 100)           0         \n",
            "_________________________________________________________________\n",
            "time_distributed_5 (TimeDist (None, 70, 18)            1818      \n",
            "=================================================================\n",
            "Total params: 453,450\n",
            "Trainable params: 55,018\n",
            "Non-trainable params: 398,432\n",
            "_________________________________________________________________\n",
            "Train on 9263 samples, validate on 3970 samples\n",
            "Epoch 1/15\n",
            "9263/9263 [==============================] - 16s 2ms/step - loss: 0.8542 - acc: 0.8037 - val_loss: 0.3279 - val_acc: 0.9376\n",
            "Epoch 2/15\n",
            "9263/9263 [==============================] - 14s 2ms/step - loss: 0.2981 - acc: 0.9409 - val_loss: 0.2759 - val_acc: 0.9444\n",
            "Epoch 3/15\n",
            "9263/9263 [==============================] - 14s 2ms/step - loss: 0.2598 - acc: 0.9468 - val_loss: 0.2445 - val_acc: 0.9485\n",
            "Epoch 4/15\n",
            "9263/9263 [==============================] - 14s 2ms/step - loss: 0.2315 - acc: 0.9497 - val_loss: 0.2200 - val_acc: 0.9496\n",
            "Epoch 5/15\n",
            "9263/9263 [==============================] - 14s 2ms/step - loss: 0.2100 - acc: 0.9511 - val_loss: 0.2006 - val_acc: 0.9509\n",
            "Epoch 6/15\n",
            "9263/9263 [==============================] - 14s 2ms/step - loss: 0.1926 - acc: 0.9524 - val_loss: 0.1849 - val_acc: 0.9525\n",
            "Epoch 7/15\n",
            "9263/9263 [==============================] - 14s 2ms/step - loss: 0.1782 - acc: 0.9537 - val_loss: 0.1711 - val_acc: 0.9541\n",
            "Epoch 8/15\n",
            "9263/9263 [==============================] - 14s 2ms/step - loss: 0.1664 - acc: 0.9556 - val_loss: 0.1612 - val_acc: 0.9558\n",
            "Epoch 9/15\n",
            "9263/9263 [==============================] - 14s 2ms/step - loss: 0.1575 - acc: 0.9578 - val_loss: 0.1526 - val_acc: 0.9581\n",
            "Epoch 10/15\n",
            "9263/9263 [==============================] - 14s 2ms/step - loss: 0.1499 - acc: 0.9597 - val_loss: 0.1458 - val_acc: 0.9608\n",
            "Epoch 11/15\n",
            "9263/9263 [==============================] - 14s 2ms/step - loss: 0.1442 - acc: 0.9615 - val_loss: 0.1403 - val_acc: 0.9626\n",
            "Epoch 12/15\n",
            "9263/9263 [==============================] - 14s 2ms/step - loss: 0.1390 - acc: 0.9628 - val_loss: 0.1362 - val_acc: 0.9634\n",
            "Epoch 13/15\n",
            "9263/9263 [==============================] - 14s 2ms/step - loss: 0.1347 - acc: 0.9640 - val_loss: 0.1320 - val_acc: 0.9643\n",
            "Epoch 14/15\n",
            "9263/9263 [==============================] - 14s 2ms/step - loss: 0.1315 - acc: 0.9648 - val_loss: 0.1307 - val_acc: 0.9650\n",
            "Epoch 15/15\n",
            "9263/9263 [==============================] - 14s 2ms/step - loss: 0.1283 - acc: 0.9655 - val_loss: 0.1254 - val_acc: 0.9665\n"
          ],
          "name": "stdout"
        },
        {
          "output_type": "execute_result",
          "data": {
            "text/plain": [
              "<keras.callbacks.History at 0x7f1aab079550>"
            ]
          },
          "metadata": {
            "tags": []
          },
          "execution_count": 99
        }
      ]
    },
    {
      "cell_type": "markdown",
      "metadata": {
        "id": "8SkBkt_Z5_4d",
        "colab_type": "text"
      },
      "source": [
        "Con un total de 453450, solo 55018 de ellos fieron entrenados. De todos los parametros 398432 fueron usados en la capa embedding, 53200 en la capa lstm y 18181 en la ultima capa\n",
        "\n",
        "El shape de la capa de embedding está dado por (None, 70, 32) con 70 el máximo número de columnas y 32 el embedding utilizado. La capa LSTM, tiene una forma de (None, 70, 100). \n",
        "\n",
        "La ultima capa tiene el shape (None, 70, 18)  y el ultimo valor corresponde a la salida (solo hay 18 opciones de post tags).\n",
        "\n",
        "Al evaluar la función con f1_score, se generaron varios conflictos que no fue posible resolver, es por esto que la evaluación del modelo se hará a partir de otra métrica"
      ]
    },
    {
      "cell_type": "code",
      "metadata": {
        "id": "KT79q7Cv5iw3",
        "colab_type": "code",
        "outputId": "7dd5307c-a738-4588-aa62-c728c360b96d",
        "colab": {
          "base_uri": "https://localhost:8080/",
          "height": 34
        }
      },
      "source": [
        "scores = model.evaluate(X_test, y_test, verbose=0)\n",
        "print(\"La perdida del modelo es de: \", scores[0], \"y el accuracy es de: \", scores[1])"
      ],
      "execution_count": 0,
      "outputs": [
        {
          "output_type": "stream",
          "text": [
            "La perdida del modelo es de:  0.12540326876288999 y el accuracy es de:  0.9665095339794303\n"
          ],
          "name": "stdout"
        }
      ]
    },
    {
      "cell_type": "markdown",
      "metadata": {
        "id": "qLlSrLrg9778",
        "colab_type": "text"
      },
      "source": [
        "Se alcanza un buen resultado al obtener un exactiud del 96%"
      ]
    },
    {
      "cell_type": "code",
      "metadata": {
        "id": "i5d79JBDSgWZ",
        "colab_type": "code",
        "colab": {}
      },
      "source": [
        "#y_test_2 =np.argmax(y_test, axis=2)\n",
        "#dataY_pred = model.predict(np.array(y_test_2))"
      ],
      "execution_count": 0,
      "outputs": []
    },
    {
      "cell_type": "code",
      "metadata": {
        "id": "hhFK92HYQhlR",
        "colab_type": "code",
        "colab": {}
      },
      "source": [
        "#f1_score_bydata = [f1_score(true, pred ,average='macro') for true,pred in zip(y_test,dataY_pred) ]\n",
        "#print(\"F1 score on test: \", np.mean(f1_score_bydata) )"
      ],
      "execution_count": 0,
      "outputs": []
    },
    {
      "cell_type": "markdown",
      "metadata": {
        "id": "o7L0LucCiKCN",
        "colab_type": "text"
      },
      "source": [
        "> h) Varíe con seguir entrenando la capa de embedding seteada al definir la arquitectura, ésto es cambiar a *trainable=True*, compare el desempeño y el número de parámetros (entrenables) con lo anterior. Comente\n",
        "\n"
      ]
    },
    {
      "cell_type": "code",
      "metadata": {
        "id": "rFtB5JJUl5__",
        "colab_type": "code",
        "outputId": "01500e43-8b3f-46b3-bc53-7389027baebc",
        "colab": {
          "base_uri": "https://localhost:8080/",
          "height": 506
        }
      },
      "source": [
        "model = Sequential()\n",
        "model.add(Embedding(input_dim=nn_lemmas, output_dim=EMBEDDING_DIM, input_length=len_max,\n",
        "                    trainable=True, weights = [embedding_matrix]))\n",
        "model.add(LSTM(units=100,return_sequences=True))\n",
        "model.add(Dropout(0.2))\n",
        "model.add(TimeDistributed(Dense(nn_labels, activation='softmax')))\n",
        "model.summary()\n",
        "model.compile(loss='categorical_crossentropy', optimizer='adam', metrics=['accuracy'])\n",
        "model.fit(X_train, y_train, validation_data=(X_test, y_test), epochs=15, batch_size=128)"
      ],
      "execution_count": 0,
      "outputs": [
        {
          "output_type": "stream",
          "text": [
            "_________________________________________________________________\n",
            "Layer (type)                 Output Shape              Param #   \n",
            "=================================================================\n",
            "embedding_8 (Embedding)      (None, 70, 32)            398432    \n",
            "_________________________________________________________________\n",
            "lstm_7 (LSTM)                (None, 70, 100)           53200     \n",
            "_________________________________________________________________\n",
            "dropout_6 (Dropout)          (None, 70, 100)           0         \n",
            "_________________________________________________________________\n",
            "time_distributed_6 (TimeDist (None, 70, 18)            1818      \n",
            "=================================================================\n",
            "Total params: 453,450\n",
            "Trainable params: 453,450\n",
            "Non-trainable params: 0\n",
            "_________________________________________________________________\n",
            "Train on 9263 samples, validate on 3970 samples\n",
            "Epoch 1/5\n",
            "9263/9263 [==============================] - 17s 2ms/step - loss: 0.8411 - acc: 0.8927 - val_loss: 0.3085 - val_acc: 0.9404\n",
            "Epoch 2/5\n",
            "9263/9263 [==============================] - 15s 2ms/step - loss: 0.2777 - acc: 0.9468 - val_loss: 0.2510 - val_acc: 0.9498\n",
            "Epoch 3/5\n",
            "9263/9263 [==============================] - 15s 2ms/step - loss: 0.2286 - acc: 0.9513 - val_loss: 0.2057 - val_acc: 0.9507\n",
            "Epoch 4/5\n",
            "9263/9263 [==============================] - 16s 2ms/step - loss: 0.1832 - acc: 0.9531 - val_loss: 0.1638 - val_acc: 0.9541\n",
            "Epoch 5/5\n",
            "9263/9263 [==============================] - 15s 2ms/step - loss: 0.1461 - acc: 0.9601 - val_loss: 0.1338 - val_acc: 0.9643\n"
          ],
          "name": "stdout"
        },
        {
          "output_type": "execute_result",
          "data": {
            "text/plain": [
              "<keras.callbacks.History at 0x7f1aaa4c49e8>"
            ]
          },
          "metadata": {
            "tags": []
          },
          "execution_count": 104
        }
      ]
    },
    {
      "cell_type": "code",
      "metadata": {
        "id": "0sR-lRjE52S4",
        "colab_type": "code",
        "outputId": "23622f9b-89e0-4c1d-bad6-4b20fdf6c16d",
        "colab": {
          "base_uri": "https://localhost:8080/",
          "height": 34
        }
      },
      "source": [
        "scores = model.evaluate(X_test, y_test, verbose=0)\n",
        "print(\"La perdida del modelo es de: \", scores[0], \"y el accuracy es de: \", scores[1])"
      ],
      "execution_count": 0,
      "outputs": [
        {
          "output_type": "stream",
          "text": [
            "La perdida del modelo es de:  0.13377723860875784 y el accuracy es de:  0.9642533337739613\n"
          ],
          "name": "stdout"
        }
      ]
    },
    {
      "cell_type": "markdown",
      "metadata": {
        "id": "1yS9Ohmo-QDs",
        "colab_type": "text"
      },
      "source": [
        "Aquí se logran entrenar todos los parámetros,  pero el desempeño es levemente peor, pero la diferencia es insignificante."
      ]
    },
    {
      "cell_type": "markdown",
      "metadata": {
        "id": "uhJ2uop6iMQR",
        "colab_type": "text"
      },
      "source": [
        "> i) Experimente con cambiar la *gate* de recurrencia a una con menos parámetros pero que mantiene la capacidad de memoria de la LSTM, ésta es la compuerta GRU. Comente sobre los resultados esperados y observados.\n",
        "```python\n",
        "from keras.layers import GRU\n",
        "...\n",
        "model.add(GRU(units=100,return_sequences=True))\n",
        "...\n",
        "```\n",
        "\n"
      ]
    },
    {
      "cell_type": "code",
      "metadata": {
        "id": "62gYmPiHl7Pv",
        "colab_type": "code",
        "outputId": "557ad13c-5cb0-4fc3-a4c3-4b80307db2ce",
        "colab": {
          "base_uri": "https://localhost:8080/",
          "height": 853
        }
      },
      "source": [
        "from keras.layers import GRU\n",
        "\n",
        "model = Sequential()\n",
        "model.add(Embedding(input_dim=nn_lemmas, output_dim=EMBEDDING_DIM, input_length=len_max,\n",
        "                    trainable=True, weights = [embedding_matrix]))\n",
        "model.add(GRU(units=100,return_sequences=True))\n",
        "model.add(Dropout(0.2))\n",
        "model.add(TimeDistributed(Dense(nn_labels, activation='softmax')))\n",
        "model.summary()\n",
        "model.compile(loss='categorical_crossentropy', optimizer='adam', metrics=['accuracy'])\n",
        "model.fit(X_train, y_train, validation_data=(X_test, y_test), epochs=15, batch_size=128)"
      ],
      "execution_count": 0,
      "outputs": [
        {
          "output_type": "stream",
          "text": [
            "_________________________________________________________________\n",
            "Layer (type)                 Output Shape              Param #   \n",
            "=================================================================\n",
            "embedding_10 (Embedding)     (None, 70, 32)            398432    \n",
            "_________________________________________________________________\n",
            "gru_3 (GRU)                  (None, 70, 100)           39900     \n",
            "_________________________________________________________________\n",
            "dropout_8 (Dropout)          (None, 70, 100)           0         \n",
            "_________________________________________________________________\n",
            "time_distributed_8 (TimeDist (None, 70, 18)            1818      \n",
            "=================================================================\n",
            "Total params: 440,150\n",
            "Trainable params: 440,150\n",
            "Non-trainable params: 0\n",
            "_________________________________________________________________\n",
            "Train on 9263 samples, validate on 3970 samples\n",
            "Epoch 1/15\n",
            "9263/9263 [==============================] - 15s 2ms/step - loss: 1.0151 - acc: 0.8958 - val_loss: 0.2719 - val_acc: 0.9448\n",
            "Epoch 2/15\n",
            "9263/9263 [==============================] - 13s 1ms/step - loss: 0.2430 - acc: 0.9501 - val_loss: 0.2188 - val_acc: 0.9508\n",
            "Epoch 3/15\n",
            "9263/9263 [==============================] - 13s 1ms/step - loss: 0.1932 - acc: 0.9526 - val_loss: 0.1696 - val_acc: 0.9530\n",
            "Epoch 4/15\n",
            "9263/9263 [==============================] - 13s 1ms/step - loss: 0.1466 - acc: 0.9609 - val_loss: 0.1313 - val_acc: 0.9663\n",
            "Epoch 5/15\n",
            "9263/9263 [==============================] - 13s 1ms/step - loss: 0.1142 - acc: 0.9708 - val_loss: 0.1062 - val_acc: 0.9726\n",
            "Epoch 6/15\n",
            "9263/9263 [==============================] - 13s 1ms/step - loss: 0.0924 - acc: 0.9761 - val_loss: 0.0903 - val_acc: 0.9764\n",
            "Epoch 7/15\n",
            "9263/9263 [==============================] - 13s 1ms/step - loss: 0.0781 - acc: 0.9799 - val_loss: 0.0805 - val_acc: 0.9790\n",
            "Epoch 8/15\n",
            "9263/9263 [==============================] - 13s 1ms/step - loss: 0.0685 - acc: 0.9825 - val_loss: 0.0743 - val_acc: 0.9804\n",
            "Epoch 9/15\n",
            "9263/9263 [==============================] - 13s 1ms/step - loss: 0.0621 - acc: 0.9841 - val_loss: 0.0702 - val_acc: 0.9814\n",
            "Epoch 10/15\n",
            "9263/9263 [==============================] - 13s 1ms/step - loss: 0.0569 - acc: 0.9853 - val_loss: 0.0676 - val_acc: 0.9820\n",
            "Epoch 11/15\n",
            "9263/9263 [==============================] - 13s 1ms/step - loss: 0.0531 - acc: 0.9859 - val_loss: 0.0657 - val_acc: 0.9822\n",
            "Epoch 12/15\n",
            "9263/9263 [==============================] - 13s 1ms/step - loss: 0.0498 - acc: 0.9867 - val_loss: 0.0644 - val_acc: 0.9824\n",
            "Epoch 13/15\n",
            "9263/9263 [==============================] - 13s 1ms/step - loss: 0.0470 - acc: 0.9871 - val_loss: 0.0634 - val_acc: 0.9825\n",
            "Epoch 14/15\n",
            "9263/9263 [==============================] - 13s 1ms/step - loss: 0.0447 - acc: 0.9874 - val_loss: 0.0622 - val_acc: 0.9829\n",
            "Epoch 15/15\n",
            "9263/9263 [==============================] - 13s 1ms/step - loss: 0.0428 - acc: 0.9879 - val_loss: 0.0627 - val_acc: 0.9825\n"
          ],
          "name": "stdout"
        },
        {
          "output_type": "execute_result",
          "data": {
            "text/plain": [
              "<keras.callbacks.History at 0x7f1aa8d7e390>"
            ]
          },
          "metadata": {
            "tags": []
          },
          "execution_count": 107
        }
      ]
    },
    {
      "cell_type": "code",
      "metadata": {
        "id": "22OiriNoAua2",
        "colab_type": "code",
        "outputId": "9b36c332-0310-4323-b69f-328e94e1268b",
        "colab": {
          "base_uri": "https://localhost:8080/",
          "height": 34
        }
      },
      "source": [
        "scores = model.evaluate(X_test, y_test, verbose=0)\n",
        "print(\"La perdida del modelo es de: \", scores[0], \"y el accuracy es de: \", scores[1])"
      ],
      "execution_count": 0,
      "outputs": [
        {
          "output_type": "stream",
          "text": [
            "La perdida del modelo es de:  0.06267763042930391 y el accuracy es de:  0.9825440786347281\n"
          ],
          "name": "stdout"
        }
      ]
    },
    {
      "cell_type": "markdown",
      "metadata": {
        "id": "1wnUqVlTAxXS",
        "colab_type": "text"
      },
      "source": [
        "Usando GRU existe un cambio en la evaluación del modelo, el accuracy es mayor y la perdida a su vez es menor."
      ]
    },
    {
      "cell_type": "markdown",
      "metadata": {
        "id": "dBJg-iCLiNtA",
        "colab_type": "text"
      },
      "source": [
        "> j) Algunos autores señalan la importante dependencia que existe en texto, no solo con las palabras anteriores, sino que con las que siguen. Mejore la red utilizando una red neuronal recurrente Bidireccional, es decir, con recurrencia en ambas direcciones sobre la secuencia de *lemmas*. Comente cuál debiera ser la forma correcta de usar el parámetro merge_mode (concatenar, multiplicar, sumar o promediar) para este caso. Además comente las transformaciones que sufre el patrón de entrada al pasar por las capas. ¿Mejora o empeora el desempeño? Analice.\n",
        "```python\n",
        "from keras.layers import Bidirectional\n",
        "...\n",
        "gate_layer = (LSTM or GRU )(units=100,return_sequences=True)\n",
        "model.add(Bidirectional(gate_layer, merge_mode=choose))\n",
        "...\n",
        "```\n",
        "\n"
      ]
    },
    {
      "cell_type": "markdown",
      "metadata": {
        "id": "PimXkFnaC_p4",
        "colab_type": "text"
      },
      "source": [
        "Las redes bidireccionales \"miran\" hacía adelante y hacía atrás, este tipo de red es muy útil cuando el contexto es importante en un problema, por ejemplo en la traducción. El merge_mode combina las salidas de adelante y de atrás, dado que anteriormente se consiguió mejor resultado usando GRU, mantendremos esta arquitectura para probar los merge_mode."
      ]
    },
    {
      "cell_type": "code",
      "metadata": {
        "id": "i3bviQAJnUoV",
        "colab_type": "code",
        "outputId": "5fd91e96-619b-4206-c776-dbe0992790c9",
        "colab": {
          "base_uri": "https://localhost:8080/",
          "height": 1000
        }
      },
      "source": [
        "from datetime import datetime\n",
        "\n",
        "merge_mode_array = ['sum', 'mul', 'concat', 'ave']\n",
        "start_time = datetime.now()\n",
        "scores_merge_mode_array = []\n",
        "scores_merge_mode_array_evaluate = []\n",
        "epoch_anterior_time = datetime.now()\n",
        "\n",
        "for mode in merge_mode_array:  \n",
        "    model = Sequential()\n",
        "    model.add(Embedding(input_dim=n_lemmas, output_dim=EMBEDDING_DIM, input_length=len_max))\n",
        "    layer_gru = GRU(units=100,return_sequences=True)\n",
        "    model.add(Bidirectional(layer_gru,merge_mode=mode))\n",
        "    model.add(Dense(n_labels, activation='softmax'))\n",
        "    model.summary()\n",
        "    model.compile(loss='categorical_crossentropy', optimizer='adam', metrics=['accuracy'])\n",
        "    scores_merge_mode =model.fit(X_train, y_train, validation_data=(X_test, y_test), nb_epoch=3, batch_size=128)\n",
        "    scores_merge_mode_array.append((mode,scores_merge_mode))\n",
        "    scores_merge_mode_array_evaluate.append((mode,model.evaluate(X_test, y_test, verbose=0)))\n",
        "    end_time = datetime.now()\n",
        "    print('Duracion en Mode '+str(mode)+' : {}'.format(end_time - epoch_anterior_time))\n",
        "    epoch_anterior_time = datetime.now()\n",
        "end_time = datetime.now()\n",
        "print('Duracion Final: {}'.format(end_time - start_time))"
      ],
      "execution_count": 0,
      "outputs": [
        {
          "output_type": "stream",
          "text": [
            "_________________________________________________________________\n",
            "Layer (type)                 Output Shape              Param #   \n",
            "=================================================================\n",
            "embedding_16 (Embedding)     (None, 70, 32)            398432    \n",
            "_________________________________________________________________\n",
            "bidirectional_5 (Bidirection (None, 70, 100)           79800     \n",
            "_________________________________________________________________\n",
            "dense_14 (Dense)             (None, 70, 18)            1818      \n",
            "=================================================================\n",
            "Total params: 480,050\n",
            "Trainable params: 480,050\n",
            "Non-trainable params: 0\n",
            "_________________________________________________________________\n"
          ],
          "name": "stdout"
        },
        {
          "output_type": "stream",
          "text": [
            "/usr/local/lib/python3.6/dist-packages/ipykernel_launcher.py:17: UserWarning: The `nb_epoch` argument in `fit` has been renamed `epochs`.\n"
          ],
          "name": "stderr"
        },
        {
          "output_type": "stream",
          "text": [
            "Train on 9263 samples, validate on 3970 samples\n",
            "Epoch 1/3\n",
            "9263/9263 [==============================] - 27s 3ms/step - loss: 0.9922 - acc: 0.8186 - val_loss: 0.2921 - val_acc: 0.9508\n",
            "Epoch 2/3\n",
            "9263/9263 [==============================] - 21s 2ms/step - loss: 0.2403 - acc: 0.9523 - val_loss: 0.2113 - val_acc: 0.9515\n",
            "Epoch 3/3\n",
            "9263/9263 [==============================] - 21s 2ms/step - loss: 0.1739 - acc: 0.9539 - val_loss: 0.1522 - val_acc: 0.9582\n",
            "Duracion en Mode sum : 0:01:14.469189\n",
            "_________________________________________________________________\n",
            "Layer (type)                 Output Shape              Param #   \n",
            "=================================================================\n",
            "embedding_17 (Embedding)     (None, 70, 32)            398432    \n",
            "_________________________________________________________________\n",
            "bidirectional_6 (Bidirection (None, 70, 100)           79800     \n",
            "_________________________________________________________________\n",
            "dense_15 (Dense)             (None, 70, 18)            1818      \n",
            "=================================================================\n",
            "Total params: 480,050\n",
            "Trainable params: 480,050\n",
            "Non-trainable params: 0\n",
            "_________________________________________________________________\n"
          ],
          "name": "stdout"
        },
        {
          "output_type": "stream",
          "text": [
            "/usr/local/lib/python3.6/dist-packages/ipykernel_launcher.py:17: UserWarning: The `nb_epoch` argument in `fit` has been renamed `epochs`.\n"
          ],
          "name": "stderr"
        },
        {
          "output_type": "stream",
          "text": [
            "Train on 9263 samples, validate on 3970 samples\n",
            "Epoch 1/3\n",
            "9263/9263 [==============================] - 26s 3ms/step - loss: 1.4392 - acc: 0.7227 - val_loss: 0.5720 - val_acc: 0.9222\n",
            "Epoch 2/3\n",
            "9263/9263 [==============================] - 21s 2ms/step - loss: 0.3799 - acc: 0.9429 - val_loss: 0.2932 - val_acc: 0.9504\n",
            "Epoch 3/3\n",
            "9263/9263 [==============================] - 21s 2ms/step - loss: 0.2474 - acc: 0.9523 - val_loss: 0.2214 - val_acc: 0.9515\n",
            "Duracion en Mode mul : 0:01:13.435059\n",
            "_________________________________________________________________\n",
            "Layer (type)                 Output Shape              Param #   \n",
            "=================================================================\n",
            "embedding_18 (Embedding)     (None, 70, 32)            398432    \n",
            "_________________________________________________________________\n",
            "bidirectional_7 (Bidirection (None, 70, 200)           79800     \n",
            "_________________________________________________________________\n",
            "dense_16 (Dense)             (None, 70, 18)            3618      \n",
            "=================================================================\n",
            "Total params: 481,850\n",
            "Trainable params: 481,850\n",
            "Non-trainable params: 0\n",
            "_________________________________________________________________\n"
          ],
          "name": "stdout"
        },
        {
          "output_type": "stream",
          "text": [
            "/usr/local/lib/python3.6/dist-packages/ipykernel_launcher.py:17: UserWarning: The `nb_epoch` argument in `fit` has been renamed `epochs`.\n"
          ],
          "name": "stderr"
        },
        {
          "output_type": "stream",
          "text": [
            "Train on 9263 samples, validate on 3970 samples\n",
            "Epoch 1/3\n",
            "9263/9263 [==============================] - 27s 3ms/step - loss: 0.9901 - acc: 0.8096 - val_loss: 0.3006 - val_acc: 0.9428\n",
            "Epoch 2/3\n",
            "9263/9263 [==============================] - 22s 2ms/step - loss: 0.2524 - acc: 0.9495 - val_loss: 0.2272 - val_acc: 0.9511\n",
            "Epoch 3/3\n",
            "9263/9263 [==============================] - 22s 2ms/step - loss: 0.1913 - acc: 0.9528 - val_loss: 0.1649 - val_acc: 0.9535\n",
            "Duracion en Mode concat : 0:01:15.363792\n",
            "_________________________________________________________________\n",
            "Layer (type)                 Output Shape              Param #   \n",
            "=================================================================\n",
            "embedding_19 (Embedding)     (None, 70, 32)            398432    \n",
            "_________________________________________________________________\n",
            "bidirectional_8 (Bidirection (None, 70, 100)           79800     \n",
            "_________________________________________________________________\n",
            "dense_17 (Dense)             (None, 70, 18)            1818      \n",
            "=================================================================\n",
            "Total params: 480,050\n",
            "Trainable params: 480,050\n",
            "Non-trainable params: 0\n",
            "_________________________________________________________________\n"
          ],
          "name": "stdout"
        },
        {
          "output_type": "stream",
          "text": [
            "/usr/local/lib/python3.6/dist-packages/ipykernel_launcher.py:17: UserWarning: The `nb_epoch` argument in `fit` has been renamed `epochs`.\n"
          ],
          "name": "stderr"
        },
        {
          "output_type": "stream",
          "text": [
            "Train on 9263 samples, validate on 3970 samples\n",
            "Epoch 1/3\n",
            "9263/9263 [==============================] - 27s 3ms/step - loss: 1.1456 - acc: 0.7630 - val_loss: 0.3566 - val_acc: 0.9406\n",
            "Epoch 2/3\n",
            "9263/9263 [==============================] - 21s 2ms/step - loss: 0.2856 - acc: 0.9458 - val_loss: 0.2605 - val_acc: 0.9514\n",
            "Epoch 3/3\n",
            "9263/9263 [==============================] - 21s 2ms/step - loss: 0.2425 - acc: 0.9524 - val_loss: 0.2374 - val_acc: 0.9514\n",
            "Duracion en Mode ave : 0:01:14.360205\n",
            "Duracion Final: 0:04:57.629695\n"
          ],
          "name": "stdout"
        }
      ]
    },
    {
      "cell_type": "code",
      "metadata": {
        "id": "9IRt9gfOFMkR",
        "colab_type": "code",
        "outputId": "6386930b-a22b-4c54-ce2b-db6fe9a88b9d",
        "colab": {
          "base_uri": "https://localhost:8080/",
          "height": 441
        }
      },
      "source": [
        "fig, axes = plt.subplots(nrows=1, ncols=2, figsize=(12, 6), sharey=False)\n",
        "\n",
        "loss_array = []\n",
        "accuracy_array = []\n",
        "\n",
        "for i in range(len(scores_merge_mode_array_evaluate)):\n",
        "    loss_array.append(scores_merge_mode_array_evaluate[i][1][0])\n",
        "    accuracy_array.append(scores_merge_mode_array_evaluate[i][1][1])\n",
        "\n",
        "\n",
        "axes[0].bar([0,1,2,3], loss_array)\n",
        "\n",
        "axes[0].set_title('Loss para cada merge mode ',fontsize=18)\n",
        "axes[0].set_ylabel(\"Loss \", fontsize=14)\n",
        "axes[0].set_xlabel(\"Merge mode\", fontsize=14)\n",
        "axes[0].set_xticks((0,1,2,3))\n",
        "axes[0].set_xticklabels(('sum','mul','concat','ave'))\n",
        "\n",
        "axes[1].bar([0,1,2,3], accuracy_array)\n",
        "axes[1].set_title('acurracy para cafa merge mode ', fontsize=18)\n",
        "axes[1].set_ylabel(\"Accuracy\", fontsize=14)\n",
        "axes[1].set_xlabel(\"Merge mode\", fontsize=14)\n",
        "axes[1].set_xticks((0,1,2,3))\n",
        "axes[1].set_xticklabels(['sum','mul','concat','ave'])\n",
        "\n",
        "plt.tight_layout()"
      ],
      "execution_count": 0,
      "outputs": [
        {
          "output_type": "display_data",
          "data": {
            "image/png": "[encoded data removed]",
            "text/plain": [
              "<Figure size 864x432 with 2 Axes>"
            ]
          },
          "metadata": {
            "tags": []
          }
        }
      ]
    },
    {
      "cell_type": "code",
      "metadata": {
        "id": "B_e6JZ0iFg-L",
        "colab_type": "code",
        "outputId": "fa33b2b8-3a8c-4996-9331-e5014e68b37f",
        "colab": {
          "base_uri": "https://localhost:8080/",
          "height": 910
        }
      },
      "source": [
        "fig, axes = plt.subplots(nrows=2, ncols=2,figsize=(12,12))\n",
        "ax = axes.flatten()\n",
        "\n",
        "for i in range(len(scores_merge_mode_array)):\n",
        "    ax[0].plot(range(1,4),scores_merge_mode_array[i][1].history['loss'], label=scores_merge_mode_array[i][0])\n",
        "    ax[1].plot(range(1,4),scores_merge_mode_array[i][1].history['val_loss'], label=scores_merge_mode_array[i][0])\n",
        "    ax[2].plot(range(1,4),scores_merge_mode_array[i][1].history['acc'], label=scores_merge_mode_array[i][0])\n",
        "    ax[3].plot(range(1,4),scores_merge_mode_array[i][1].history['val_acc'], label=scores_merge_mode_array[i][0])\n",
        "\n",
        "    \n",
        "ax[0].set_title('Loss en el entrenamiento')\n",
        "ax[0].set_ylabel('Loss')\n",
        "ax[0].set_xlabel('N° Epoch')\n",
        "ax[0].legend()\n",
        "ax[1].set_title('Loss en en la validación')\n",
        "ax[1].set_ylabel('Loss')\n",
        "ax[1].set_xlabel('N° Epoch')\n",
        "ax[1].legend()\n",
        "ax[2].set_title('Accuracy en el entrenamiento')\n",
        "ax[2].set_ylabel('Accuracy')\n",
        "ax[2].set_xlabel('N° Epoch')\n",
        "ax[2].legend()\n",
        "ax[3].set_title('Accuracy en la validación')\n",
        "ax[3].set_ylabel('Accuracy')\n",
        "ax[3].set_xlabel('N° Epoch')\n",
        "ax[3].legend()\n",
        "plt.suptitle(\"Loss y Accuracy en entrenamiento y testeo para redes con distinto merge_mode\", y=1.03)\n",
        "plt.tight_layout()\n",
        "plt.show()"
      ],
      "execution_count": 0,
      "outputs": [
        {
          "output_type": "display_data",
          "data": {
            "image/png": "[encoded data removed]",
            "text/plain": [
              "<Figure size 864x864 with 4 Axes>"
            ]
          },
          "metadata": {
            "tags": []
          }
        }
      ]
    },
    {
      "cell_type": "markdown",
      "metadata": {
        "id": "MAXwOUklF41b",
        "colab_type": "text"
      },
      "source": [
        "Si bien nuestra lógico nos hace pensar que los mejores merge_mode deberían ser sum o concat, los resultados indican que la multiplicación es el mejor resultado. Sin embardo en el entrenamiento, sum es el que tiene mejor resultado."
      ]
    },
    {
      "cell_type": "markdown",
      "metadata": {
        "id": "wJ6cS6CWiQrK",
        "colab_type": "text"
      },
      "source": [
        "> l) Utilice la red con mejor desempeño encontrada, idealmente la encontrada en (j), y **muestre las predicciones** del *NER tager*, sobre algún ejemplo de pruebas, comente.  \n",
        "```python\n",
        "p = model.predict(np.array([X_test[i]]))\n",
        "p = np.argmax(p, axis=-1)\n",
        "print(\"{:15}: {}\".format(\"Lemma\", \"Pred\"))\n",
        "for w,pred in zip(X_test[i],p[0]):\n",
        "    print(\"{:15}: {}\".format(lemmas[w],labels[pred]))\n",
        "```"
      ]
    },
    {
      "cell_type": "markdown",
      "metadata": {
        "id": "DJebGnZ1H1Sz",
        "colab_type": "text"
      },
      "source": [
        "Se decide usar la red con mejor desempeño en (j), una red bidireccional con mul en merge_mode."
      ]
    },
    {
      "cell_type": "code",
      "metadata": {
        "id": "pmO2GpKjjH6W",
        "colab_type": "code",
        "outputId": "67ec4c00-0cdf-47d3-eb99-d311f830bb1b",
        "colab": {
          "base_uri": "https://localhost:8080/",
          "height": 419
        }
      },
      "source": [
        "model = Sequential()\n",
        "model.add(Embedding(input_dim=n_lemmas, output_dim=EMBEDDING_DIM, input_length=len_max))\n",
        "layer_gru = GRU(units=100,return_sequences=True)\n",
        "model.add(Bidirectional(layer_gru,merge_mode='mul'))\n",
        "model.add(Dense(n_labels, activation='softmax'))\n",
        "model.summary()\n",
        "model.compile(loss='categorical_crossentropy', optimizer='adam', metrics=['accuracy'])\n",
        "score_merge_mode =model.fit(X_train, y_train, validation_data=(X_test, y_test), nb_epoch=3, batch_size=128)\n",
        "score=mode,model.evaluate(X_test, y_test, verbose=0)"
      ],
      "execution_count": 0,
      "outputs": [
        {
          "output_type": "stream",
          "text": [
            "_________________________________________________________________\n",
            "Layer (type)                 Output Shape              Param #   \n",
            "=================================================================\n",
            "embedding_20 (Embedding)     (None, 70, 32)            398432    \n",
            "_________________________________________________________________\n",
            "bidirectional_9 (Bidirection (None, 70, 100)           79800     \n",
            "_________________________________________________________________\n",
            "dense_18 (Dense)             (None, 70, 18)            1818      \n",
            "=================================================================\n",
            "Total params: 480,050\n",
            "Trainable params: 480,050\n",
            "Non-trainable params: 0\n",
            "_________________________________________________________________\n"
          ],
          "name": "stdout"
        },
        {
          "output_type": "stream",
          "text": [
            "/usr/local/lib/python3.6/dist-packages/ipykernel_launcher.py:8: UserWarning: The `nb_epoch` argument in `fit` has been renamed `epochs`.\n",
            "  \n"
          ],
          "name": "stderr"
        },
        {
          "output_type": "stream",
          "text": [
            "Train on 9263 samples, validate on 3970 samples\n",
            "Epoch 1/3\n",
            "9263/9263 [==============================] - 28s 3ms/step - loss: 1.4639 - acc: 0.7080 - val_loss: 0.6192 - val_acc: 0.8540\n",
            "Epoch 2/3\n",
            "9263/9263 [==============================] - 21s 2ms/step - loss: 0.4030 - acc: 0.9379 - val_loss: 0.2993 - val_acc: 0.9501\n",
            "Epoch 3/3\n",
            "9263/9263 [==============================] - 21s 2ms/step - loss: 0.2551 - acc: 0.9520 - val_loss: 0.2299 - val_acc: 0.9514\n"
          ],
          "name": "stdout"
        }
      ]
    },
    {
      "cell_type": "code",
      "metadata": {
        "id": "7chpT6Edh1Pp",
        "colab_type": "code",
        "outputId": "7be7f503-c992-422d-eb9e-c28365d75ba0",
        "colab": {
          "base_uri": "https://localhost:8080/",
          "height": 1000
        }
      },
      "source": [
        "p = model.predict(np.array([X_test[0]]))\n",
        "p = np.argmax(p, axis=-1)\n",
        "print(\"{:15}: {}\".format(\"Lemma\", \"Pred\"))\n",
        "lab2idx_invertido = {v: k for k, v in lab2idx.items()}\n",
        "lemma2idx_invertido = {v: k for k, v in lemma2idx.items()}\n",
        "for w,pred in zip(X_test[0],p[0]):\n",
        "    print(\"{:15}: {}\".format(lemma2idx_invertido[w],lab2idx_invertido[pred]))"
      ],
      "execution_count": 0,
      "outputs": [
        {
          "output_type": "stream",
          "text": [
            "Lemma          : Pred\n",
            "sinc           : O\n",
            "2005           : O\n",
            ",              : O\n",
            "the            : O\n",
            "govern         : O\n",
            "has            : O\n",
            "re-nation      : O\n",
            "a              : O\n",
            "number         : O\n",
            "of             : O\n",
            "privat         : O\n",
            "compani        : O\n",
            ".              : O\n",
            "endend         : endend\n",
            "endend         : endend\n",
            "endend         : endend\n",
            "endend         : endend\n",
            "endend         : endend\n",
            "endend         : endend\n",
            "endend         : endend\n",
            "endend         : endend\n",
            "endend         : endend\n",
            "endend         : endend\n",
            "endend         : endend\n",
            "endend         : endend\n",
            "endend         : endend\n",
            "endend         : endend\n",
            "endend         : endend\n",
            "endend         : endend\n",
            "endend         : endend\n",
            "endend         : endend\n",
            "endend         : endend\n",
            "endend         : endend\n",
            "endend         : endend\n",
            "endend         : endend\n",
            "endend         : endend\n",
            "endend         : endend\n",
            "endend         : endend\n",
            "endend         : endend\n",
            "endend         : endend\n",
            "endend         : endend\n",
            "endend         : endend\n",
            "endend         : endend\n",
            "endend         : endend\n",
            "endend         : endend\n",
            "endend         : endend\n",
            "endend         : endend\n",
            "endend         : endend\n",
            "endend         : endend\n",
            "endend         : endend\n",
            "endend         : endend\n",
            "endend         : endend\n",
            "endend         : endend\n",
            "endend         : endend\n",
            "endend         : endend\n",
            "endend         : endend\n",
            "endend         : endend\n",
            "endend         : endend\n",
            "endend         : endend\n",
            "endend         : endend\n",
            "endend         : endend\n",
            "endend         : endend\n",
            "endend         : endend\n",
            "endend         : endend\n",
            "endend         : endend\n",
            "endend         : endend\n",
            "endend         : endend\n",
            "endend         : endend\n",
            "endend         : endend\n",
            "endend         : endend\n"
          ],
          "name": "stdout"
        }
      ]
    },
    {
      "cell_type": "code",
      "metadata": {
        "id": "YAYW9P0miv-R",
        "colab_type": "code",
        "colab": {}
      },
      "source": [
        ""
      ],
      "execution_count": 0,
      "outputs": []
    }
  ]
}